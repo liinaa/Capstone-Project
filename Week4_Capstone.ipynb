{
 "cells": [
  {
   "cell_type": "markdown",
   "metadata": {},
   "source": [
    "# Battle of Neighborhoods"
   ]
  },
  {
   "cell_type": "markdown",
   "metadata": {},
   "source": [
    "## Problem to solve"
   ]
  },
  {
   "cell_type": "markdown",
   "metadata": {},
   "source": [
    "Opening a restaurant requires choosing a perfect location where there are few or no restaurants, secure location, with either high foot or car traffic. In our case, we choose New York as the city of study. If someone is looking to open a restaurant in New York, our system will recommend them where to open it."
   ]
  },
  {
   "cell_type": "markdown",
   "metadata": {},
   "source": [
    "## Data"
   ]
  },
  {
   "cell_type": "markdown",
   "metadata": {},
   "source": [
    "Data that we will use will be extracted from Foursquare API. We will use as features, for each neighborhood of New York: \n",
    "\n",
    "- Number of restaurants,\n",
    "- Number of crimes to know the level of security,\n",
    "- The population density to examine if the area is densely populated, \n",
    "- Its rating to know if it is highly known and frequented by people.\n",
    "\n",
    "We will apply a density based clustering algorithm like DBSCAN."
   ]
  },
  {
   "cell_type": "code",
   "execution_count": null,
   "metadata": {},
   "outputs": [],
   "source": []
  }
 ],
 "metadata": {
  "kernelspec": {
   "display_name": "Python 3",
   "language": "python",
   "name": "python3"
  },
  "language_info": {
   "codemirror_mode": {
    "name": "ipython",
    "version": 3
   },
   "file_extension": ".py",
   "mimetype": "text/x-python",
   "name": "python",
   "nbconvert_exporter": "python",
   "pygments_lexer": "ipython3",
   "version": "3.6.5"
  }
 },
 "nbformat": 4,
 "nbformat_minor": 2
}
